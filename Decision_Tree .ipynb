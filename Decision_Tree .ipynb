{
  "nbformat": 4,
  "nbformat_minor": 0,
  "metadata": {
    "colab": {
      "name": "Decision Tree.ipynb",
      "provenance": []
    },
    "kernelspec": {
      "name": "python3",
      "display_name": "Python 3"
    },
    "language_info": {
      "name": "python"
    }
  },
  "cells": [
    {
      "cell_type": "code",
      "execution_count": null,
      "metadata": {
        "id": "BBwnKvu2cFWp"
      },
      "outputs": [],
      "source": [
        "import numpy as np\n",
        "import pandas as pd\n",
        "from sklearn.metrics import confusion_matrix\n",
        "from sklearn.model_selection import train_test_split\n",
        "from sklearn.metrics import accuracy_score\n",
        "from sklearn.datasets import load_iris"
      ]
    },
    {
      "cell_type": "code",
      "source": [
        ""
      ],
      "metadata": {
        "id": "uCawjP-ptsaD"
      },
      "execution_count": null,
      "outputs": []
    },
    {
      "cell_type": "code",
      "source": [
        "a=load_iris()\n",
        "x=a.data\n",
        "y=a.target"
      ],
      "metadata": {
        "id": "5w1A__FteliT"
      },
      "execution_count": null,
      "outputs": []
    },
    {
      "cell_type": "code",
      "source": [
        "x_train,x_test,y_train,y_test=(train_test_split(x,y,test_size=1/3,random_state=0))\n",
        "from sklearn.tree import DecisionTreeClassifier\n",
        "clfr=DecisionTreeClassifier()\n",
        "clfr.fit(x_train,y_train)"
      ],
      "metadata": {
        "id": "YgtC7GWefy9o",
        "colab": {
          "base_uri": "https://localhost:8080/"
        },
        "outputId": "2b906f55-dd9b-4d7f-b788-e67625b9f476"
      },
      "execution_count": null,
      "outputs": [
        {
          "output_type": "execute_result",
          "data": {
            "text/plain": [
              "DecisionTreeClassifier()"
            ]
          },
          "metadata": {},
          "execution_count": 34
        }
      ]
    },
    {
      "cell_type": "code",
      "source": [
        "train=clfr.predict(x_train)\n",
        "test=clfr.predict(x_test)\n",
        "#train\n",
        "#test\n",
        "print(\"Train Accuracy:\",accuracy_score(y_true=y_train,y_pred=train))\n",
        "print(\"Test Accuracy:\",accuracy_score(y_true=y_test,y_pred=test))"
      ],
      "metadata": {
        "colab": {
          "base_uri": "https://localhost:8080/"
        },
        "id": "cHmSoHhaikzI",
        "outputId": "a7af3740-4cae-46a4-c6fa-56767291cfbc"
      },
      "execution_count": null,
      "outputs": [
        {
          "output_type": "stream",
          "name": "stdout",
          "text": [
            "Train Accuracy: 1.0\n",
            "Test Accuracy: 0.96\n"
          ]
        }
      ]
    },
    {
      "cell_type": "code",
      "source": [
        "from sklearn import tree\n",
        "tree.plot_tree(clfr)"
      ],
      "metadata": {
        "colab": {
          "base_uri": "https://localhost:8080/",
          "height": 508
        },
        "id": "rAv-A5QBttnM",
        "outputId": "e721d862-19d4-48ce-f9d2-c2621c08e7b0"
      },
      "execution_count": 36,
      "outputs": [
        {
          "output_type": "execute_result",
          "data": {
            "text/plain": [
              "[Text(167.40000000000003, 199.32, 'X[3] <= 0.75\\ngini = 0.666\\nsamples = 100\\nvalue = [34, 31, 35]'),\n",
              " Text(133.92000000000002, 163.07999999999998, 'gini = 0.0\\nsamples = 34\\nvalue = [34, 0, 0]'),\n",
              " Text(200.88000000000002, 163.07999999999998, 'X[3] <= 1.75\\ngini = 0.498\\nsamples = 66\\nvalue = [0, 31, 35]'),\n",
              " Text(133.92000000000002, 126.83999999999999, 'X[2] <= 5.05\\ngini = 0.165\\nsamples = 33\\nvalue = [0, 30, 3]'),\n",
              " Text(100.44000000000001, 90.6, 'X[0] <= 5.0\\ngini = 0.062\\nsamples = 31\\nvalue = [0, 30, 1]'),\n",
              " Text(66.96000000000001, 54.359999999999985, 'X[1] <= 2.45\\ngini = 0.5\\nsamples = 2\\nvalue = [0, 1, 1]'),\n",
              " Text(33.480000000000004, 18.119999999999976, 'gini = 0.0\\nsamples = 1\\nvalue = [0, 1, 0]'),\n",
              " Text(100.44000000000001, 18.119999999999976, 'gini = 0.0\\nsamples = 1\\nvalue = [0, 0, 1]'),\n",
              " Text(133.92000000000002, 54.359999999999985, 'gini = 0.0\\nsamples = 29\\nvalue = [0, 29, 0]'),\n",
              " Text(167.40000000000003, 90.6, 'gini = 0.0\\nsamples = 2\\nvalue = [0, 0, 2]'),\n",
              " Text(267.84000000000003, 126.83999999999999, 'X[2] <= 4.85\\ngini = 0.059\\nsamples = 33\\nvalue = [0, 1, 32]'),\n",
              " Text(234.36, 90.6, 'X[0] <= 5.95\\ngini = 0.5\\nsamples = 2\\nvalue = [0, 1, 1]'),\n",
              " Text(200.88000000000002, 54.359999999999985, 'gini = 0.0\\nsamples = 1\\nvalue = [0, 1, 0]'),\n",
              " Text(267.84000000000003, 54.359999999999985, 'gini = 0.0\\nsamples = 1\\nvalue = [0, 0, 1]'),\n",
              " Text(301.32000000000005, 90.6, 'gini = 0.0\\nsamples = 31\\nvalue = [0, 0, 31]')]"
            ]
          },
          "metadata": {},
          "execution_count": 36
        },
        {
          "output_type": "display_data",
          "data": {
            "image/png": "[encoded data removed]",
            "text/plain": [
              "<Figure size 432x288 with 1 Axes>"
            ]
          },
          "metadata": {
            "needs_background": "light"
          }
        }
      ]
    }
  ]
}
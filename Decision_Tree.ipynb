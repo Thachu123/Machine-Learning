{
  "nbformat": 4,
  "nbformat_minor": 0,
  "metadata": {
    "colab": {
      "name": "Decision Tree.ipynb",
      "provenance": []
    },
    "kernelspec": {
      "name": "python3",
      "display_name": "Python 3"
    },
    "language_info": {
      "name": "python"
    }
  },
  "cells": [
    {
      "cell_type": "code",
      "execution_count": null,
      "metadata": {
        "id": "BBwnKvu2cFWp"
      },
      "outputs": [],
      "source": [
        "import numpy as np\n",
        "import pandas as pd\n",
        "from sklearn.metrics import confusion_matrix\n",
        "from sklearn.model_selection import train_test_split\n",
        "from sklearn.metrics import accuracy_score\n",
        "from sklearn.datasets import load_iris"
      ]
    },
    {
      "cell_type": "code",
      "source": [
        "a=load_iris()\n",
        "x=a.data\n",
        "y=a.target"
      ],
      "metadata": {
        "id": "5w1A__FteliT"
      },
      "execution_count": null,
      "outputs": []
    },
    {
      "cell_type": "code",
      "source": [
        "x_train,x_test,y_train,y_test=(train_test_split(x,y,test_size=1/3,random_state=0))\n",
        "from sklearn.tree import DecisionTreeClassifier\n",
        "clfr=DecisionTreeClassifier()\n",
        "clfr.fit(x_train,y_train)"
      ],
      "metadata": {
        "id": "YgtC7GWefy9o",
        "colab": {
          "base_uri": "https://localhost:8080/"
        },
        "outputId": "2b906f55-dd9b-4d7f-b788-e67625b9f476"
      },
      "execution_count": null,
      "outputs": [
        {
          "output_type": "execute_result",
          "data": {
            "text/plain": [
              "DecisionTreeClassifier()"
            ]
          },
          "metadata": {},
          "execution_count": 34
        }
      ]
    },
    {
      "cell_type": "code",
      "source": [
        "train=clfr.predict(x_train)\n",
        "test=clfr.predict(x_test)\n",
        "#train\n",
        "#test\n",
        "print(\"Train Accuracy:\",accuracy_score(y_true=y_train,y_pred=train))\n",
        "print(\"Test Accuracy:\",accuracy_score(y_true=y_test,y_pred=test))"
      ],
      "metadata": {
        "colab": {
          "base_uri": "https://localhost:8080/"
        },
        "id": "cHmSoHhaikzI",
        "outputId": "a7af3740-4cae-46a4-c6fa-56767291cfbc"
      },
      "execution_count": null,
      "outputs": [
        {
          "output_type": "stream",
          "name": "stdout",
          "text": [
            "Train Accuracy: 1.0\n",
            "Test Accuracy: 0.96\n"
          ]
        }
      ]
    }
  ]
}
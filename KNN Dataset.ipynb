{
 "cells": [
  {
   "cell_type": "code",
   "execution_count": 6,
   "id": "45050af7",
   "metadata": {},
   "outputs": [
    {
     "name": "stdout",
     "output_type": "stream",
     "text": [
      "[0 9 8 2 7 5 5 3 4 3 6 1 9 3 1 4 5 2 5 3 4 9 6 4 3 3 5 8 3 7 9 0 0 2 9 5 7\n",
      " 8 1 1 6 1 0 1 7 3 4 2 7 7 1 4 5 8 0 0 3 9 2 9 7 5 6 1 1 7 9 6 6 9 3 0 4 0\n",
      " 0 4 0 7 3 2 4 1 5 5 2 3 9 5 4 3 7 0 9 7 7 2 6 3 4 8 0 8 5 2 9 1 2 4 7 7 0\n",
      " 4 2 1 7 3 7 1 1 1 6 5 6 7 0 9 5 5 5 7 2 9 2 0 0 7 8 7 2 8 1 6 8 6 2 0 2 0\n",
      " 8 9 4 1 5 7 4 3 9 9 4 9 5 1 8 1 0 6 1 4 0 1 7 2 1 7 1 5 8 6 0 5 2 9 4 3 4\n",
      " 2 4 8 3 1 2 9 1 5 1 6 6 4 7 3 7 1 7 9 4 5 5 4 4 6 7 8 9 3 6 9 9 4 2 3 7 6\n",
      " 2 7 3 1 6 9 2 3 6 6 0 7 6 7 3 6 4 3 8 1 9 3 9 7 5 0 9 1 6 1 4 1 1 9 6 4 4\n",
      " 1 9 8 4 8 1 3 3 7 0 3 8 7 7 1 9 6 6 8 1 0 4 4 0 2 0 9 5 2 3 8 4 7 5 6 0 2\n",
      " 2 8 5 1 8 1 1 2 4 9 3 6 8 5 9 1 6 7 2 4 3 5 6 4 2 3 7 0 0 7 6 6 8 0 8 2 9\n",
      " 1 3 6 5 5 7 4 2 3 1 8 6 4 7 3 1 8 5 9 9 4 7 6 1 2 0 5 5 5 7 6 3 2 4 6 1 4\n",
      " 0 2 8 6 6 2 5 0 8 0 0 3 0 5 9 9 9 3 8 2 4 9 1 0 9 8 9 4 4 3 9 7 0 8 6 8 4\n",
      " 1 5 3 7 6 5 6 8 1 1 2 5 7 7 8 8 2 6 5 9 0 7 8 1 6 6 1 0 2 4 5 2 2 6 4 6 4\n",
      " 9 8 1 4 1 3 1 2 7 6 5 1 6 0 8 9 9 8 7 9 0 5 4 4 5 5 1 5 7 8 5 6 9 4 7 7 8\n",
      " 5 7 6 3 0 3 0 9 1 5 8 2 0 6 2 1 9 4 3 3 8 4 2 8 9 6 5 5 8 1 3 4 5 8 1 5 5\n",
      " 5 9 3 9 6 6 4 0 1 6 0 5 7 3 3 2 3 5 7 3 6 6]\n"
     ]
    }
   ],
   "source": [
    "from sklearn.neighbors import KNeighborsClassifier\n",
    "from sklearn.model_selection import train_test_split\n",
    "from sklearn.datasets import load_digits\n",
    "a=load_digits()\n",
    "x=a.data\n",
    "y=a.target\n",
    "x_train,x_test,y_train,y_test=train_test_split(x,y,test_size=0.30)\n",
    "knn=KNeighborsClassifier(n_neighbors=6)\n",
    "knn.fit(x_train,y_train)\n",
    "KNeighborsClassifier(n_neighbors=6)\n",
    "p=(knn.predict(x_test))\n",
    "print(p)"
   ]
  },
  {
   "cell_type": "code",
   "execution_count": 7,
   "id": "78139b08",
   "metadata": {},
   "outputs": [
    {
     "name": "stdout",
     "output_type": "stream",
     "text": [
      "[[48  0  0  0  0  0  0  0  0  0]\n",
      " [ 0 59  0  0  0  0  0  0  0  0]\n",
      " [ 0  0 47  0  0  0  0  0  0  0]\n",
      " [ 0  0  0 50  0  0  0  1  0  0]\n",
      " [ 0  0  0  0 56  0  0  0  0  0]\n",
      " [ 0  0  0  0  0 58  0  0  0  0]\n",
      " [ 0  0  0  0  0  0 59  0  0  0]\n",
      " [ 0  0  0  0  0  0  0 55  0  0]\n",
      " [ 0  3  0  1  0  0  0  0 47  1]\n",
      " [ 0  0  0  1  0  0  0  0  0 54]]\n",
      "              precision    recall  f1-score   support\n",
      "\n",
      "           0       1.00      1.00      1.00        48\n",
      "           1       0.95      1.00      0.98        59\n",
      "           2       1.00      1.00      1.00        47\n",
      "           3       0.96      0.98      0.97        51\n",
      "           4       1.00      1.00      1.00        56\n",
      "           5       1.00      1.00      1.00        58\n",
      "           6       1.00      1.00      1.00        59\n",
      "           7       0.98      1.00      0.99        55\n",
      "           8       1.00      0.90      0.95        52\n",
      "           9       0.98      0.98      0.98        55\n",
      "\n",
      "    accuracy                           0.99       540\n",
      "   macro avg       0.99      0.99      0.99       540\n",
      "weighted avg       0.99      0.99      0.99       540\n",
      "\n"
     ]
    }
   ],
   "source": [
    "\n",
    "from sklearn.metrics import classification_report,confusion_matrix\n",
    "print(confusion_matrix(y_test,p))\n",
    "print(classification_report(y_test,p))\n"
   ]
  },
  {
   "cell_type": "code",
   "execution_count": null,
   "id": "22b0557d",
   "metadata": {},
   "outputs": [],
   "source": []
  }
 ],
 "metadata": {
  "kernelspec": {
   "display_name": "Python 3",
   "language": "python",
   "name": "python3"
  },
  "language_info": {
   "codemirror_mode": {
    "name": "ipython",
    "version": 3
   },
   "file_extension": ".py",
   "mimetype": "text/x-python",
   "name": "python",
   "nbconvert_exporter": "python",
   "pygments_lexer": "ipython3",
   "version": "3.8.8"
  }
 },
 "nbformat": 4,
 "nbformat_minor": 5
}
